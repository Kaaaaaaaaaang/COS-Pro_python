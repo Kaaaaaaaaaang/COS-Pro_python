{
  "nbformat": 4,
  "nbformat_minor": 0,
  "metadata": {
    "colab": {
      "name": "Day03_모의고사.ipynb",
      "provenance": [],
      "collapsed_sections": [],
      "authorship_tag": "ABX9TyMBSb3VfCFMdxs0FLTSQ+j6",
      "include_colab_link": true
    },
    "kernelspec": {
      "name": "python3",
      "display_name": "Python 3"
    }
  },
  "cells": [
    {
      "cell_type": "markdown",
      "metadata": {
        "id": "view-in-github",
        "colab_type": "text"
      },
      "source": [
        "<a href=\"https://colab.research.google.com/github/Kaaaaaaaaaang/COS_pro_study/blob/main/Day03_%EB%AA%A8%EC%9D%98%EA%B3%A0%EC%82%AC.ipynb\" target=\"_parent\"><img src=\"https://colab.research.google.com/assets/colab-badge.svg\" alt=\"Open In Colab\"/></a>"
      ]
    },
    {
      "cell_type": "code",
      "metadata": {
        "id": "D7ra7U4vSfqX"
      },
      "source": [
        "# 01\r\n",
        "def solution(arr, k):\r\n",
        "  answer = 0\r\n",
        "  total = 0\r\n",
        "  for i in arr:\r\n",
        "    total += i\r\n",
        "  if k < total:\r\n",
        "    return -1\r\n",
        "  answer = k - total\r\n",
        "  return answer"
      ],
      "execution_count": 1,
      "outputs": []
    },
    {
      "cell_type": "code",
      "metadata": {
        "id": "Uzrqy8gzTox8"
      },
      "source": [
        "# 02\r\n",
        "def func_a(s):\r\n",
        "  s.sort()\r\n",
        "  return s[len(s)-1], s[0]\r\n",
        "\r\n",
        "def func_b(s):\r\n",
        "  ret = 0\r\n",
        "  for i in s:\r\n",
        "    ret+=i\r\n",
        "  return ret\r\n",
        "\r\n",
        "def solution(scores):\r\n",
        "  sum = func_b(scores)\r\n",
        "  max, min = func_a(scores)\r\n",
        "  return sum - max - min"
      ],
      "execution_count": 2,
      "outputs": []
    },
    {
      "cell_type": "code",
      "metadata": {
        "id": "_CKDcjgJT_yy"
      },
      "source": [
        "# 03\r\n",
        "def soluttion(scores):\r\n",
        "  count = 0\r\n",
        "  for s in range(len(scores)):\r\n",
        "    if scores[s] <= 200:\r\n",
        "      count+=1\r\n",
        "  return count"
      ],
      "execution_count": 4,
      "outputs": []
    },
    {
      "cell_type": "code",
      "metadata": {
        "id": "kcjRA97YVWJ5"
      },
      "source": [
        "# 04\r\n",
        "def solutioin(price, grade):\r\n",
        "  answer = 0\r\n",
        "  if grade == \"S\":\r\n",
        "    answer = price*1.05\r\n",
        "  elif grade == \"G\":\r\n",
        "    answer = price*1.10\r\n",
        "  elif grade == \"V\":\r\n",
        "    answer = price*1.15\r\n",
        "  return int(answer)"
      ],
      "execution_count": 5,
      "outputs": []
    },
    {
      "cell_type": "code",
      "metadata": {
        "id": "hyN8efFHWMTH"
      },
      "source": [
        "# 05\r\n",
        "def solution(number):\r\n",
        "  count = 0\r\n",
        "  for i in range(1, number+1):\r\n",
        "    current = i\r\n",
        "    while current!=0:\r\n",
        "      unit = current%10\r\n",
        "      if unit == 3 or unit == 6 or unit == 9:\r\n",
        "        count+=1\r\n",
        "      current = current // 10\r\n",
        "  return count"
      ],
      "execution_count": 6,
      "outputs": []
    },
    {
      "cell_type": "code",
      "metadata": {
        "id": "wFZRQJx-XBkT"
      },
      "source": [
        "# 06\r\n",
        "def solution(left_rings):\r\n",
        "  answer = 0\r\n",
        "  for i in range(len(left_rings)):\r\n",
        "    if left_rings[i]<=i:\r\n",
        "      for k in range(i):\r\n",
        "        if left_rings[k] > left_rings[i]:\r\n",
        "          answer += 1\r\n",
        "  return answer"
      ],
      "execution_count": null,
      "outputs": []
    },
    {
      "cell_type": "code",
      "metadata": {
        "id": "1SYiTqiQYMG0"
      },
      "source": [
        "# 07\r\n",
        "def solution(file_info):\r\n",
        "  success = 0\r\n",
        "  fail = 0\r\n",
        "  for f in file_info :\r\n",
        "    splited = f.split(\".\")\r\n",
        "    if splited[0] == 'jpeg' and int(splited[2]) < 1000 :\r\n",
        "      success += 1\r\n",
        "    else :\r\n",
        "      fail += 1\r\n",
        "\r\n",
        "  return success, fail"
      ],
      "execution_count": null,
      "outputs": []
    },
    {
      "cell_type": "code",
      "metadata": {
        "id": "U56O26UQZ0Xu"
      },
      "source": [
        "# 08\r\n",
        "def solution(sentecne):\r\n",
        "  filtered = []\r\n",
        "  for s in sentence:\r\n",
        "    if s != '' and s != '.':\r\n",
        "      filtered.append(s)\r\n",
        "  before = ''.join(filtered)\r\n",
        "  filtered.reverse()\r\n",
        "  after = ''.join(filtered)\r\n",
        "  return before == after"
      ],
      "execution_count": 8,
      "outputs": []
    },
    {
      "cell_type": "code",
      "metadata": {
        "id": "RWlF-u7MaqSx"
      },
      "source": [
        "# 09\r\n",
        "def solution(characters):\r\n",
        "  result = [characters[0]]\r\n",
        "  for i in range(1, len(characters)):\r\n",
        "    if characters[i-1] != characters[i]:\r\n",
        "      result.append(characters[i])\r\n",
        "  return ''.join(result)"
      ],
      "execution_count": 9,
      "outputs": []
    },
    {
      "cell_type": "code",
      "metadata": {
        "id": "8OulZF89be-4"
      },
      "source": [
        "# 10\r\n",
        "def solution(data):\r\n",
        "  total = 0\r\n",
        "  for i in data:\r\n",
        "    total += i\r\n",
        "  cnt = 0\r\n",
        "  average = total//len(data)\r\n",
        "  for i in data:\r\n",
        "    if i<average:\r\n",
        "      cnt+=1\r\n",
        "  return cnt"
      ],
      "execution_count": null,
      "outputs": []
    }
  ]
}
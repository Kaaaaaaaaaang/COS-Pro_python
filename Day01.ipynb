{
  "nbformat": 4,
  "nbformat_minor": 0,
  "metadata": {
    "colab": {
      "name": "Day01.ipynb",
      "provenance": [],
      "collapsed_sections": [],
      "authorship_tag": "ABX9TyM0qzr69fmucuJVZNsa1HXy",
      "include_colab_link": true
    },
    "kernelspec": {
      "name": "python3",
      "display_name": "Python 3"
    }
  },
  "cells": [
    {
      "cell_type": "markdown",
      "metadata": {
        "id": "view-in-github",
        "colab_type": "text"
      },
      "source": [
        "<a href=\"https://colab.research.google.com/github/Kaaaaaaaaaang/COS_pro_study/blob/main/Day01.ipynb\" target=\"_parent\"><img src=\"https://colab.research.google.com/assets/colab-badge.svg\" alt=\"Open In Colab\"/></a>"
      ]
    },
    {
      "cell_type": "markdown",
      "metadata": {
        "id": "AS3o8ecs7val"
      },
      "source": [
        "파이썬은 실행시 자료형을 자동으로 구분하여 할당한다.(동적 바인딩)<br>\r\n",
        "큰 따옴표와 작은 따옴표 구분없이 문자열<br><br>"
      ]
    },
    {
      "cell_type": "code",
      "metadata": {
        "colab": {
          "base_uri": "https://localhost:8080/"
        },
        "id": "tcx2gMkU2Bye",
        "outputId": "629931d4-5c1c-4a4b-f16b-36e7238d143e"
      },
      "source": [
        "# 산술 연산자\r\n",
        "# (1) 증감 연산자\r\n",
        "a = 1\r\n",
        "# a++\r\n",
        "print(a)\r\n",
        "# ** 파이썬에서 증감 연산자는 지원하지 않는다."
      ],
      "execution_count": 1,
      "outputs": [
        {
          "output_type": "stream",
          "text": [
            "1\n"
          ],
          "name": "stdout"
        }
      ]
    },
    {
      "cell_type": "code",
      "metadata": {
        "id": "5BT6IexO76sF"
      },
      "source": [
        "# (2) 나누기의 결과는 실수\r\n",
        "num1 = 10\r\n",
        "num2 = 2\r\n",
        "print(type(num1), type(num2)) # int, int\r\n",
        "result1 = num1/num2\r\n",
        "print(type(result1)) # float"
      ],
      "execution_count": null,
      "outputs": []
    },
    {
      "cell_type": "code",
      "metadata": {
        "colab": {
          "base_uri": "https://localhost:8080/"
        },
        "id": "ctQYMKMW79mU",
        "outputId": "1a2b4a6b-2c71-43db-95e6-41dfadc29e31"
      },
      "source": [
        "lf = 1074/100\r\n",
        "num = int(lf)\r\n",
        "print(num, type(num)) # 10, int\r\n",
        "print(lf, type(lf)) # 10.74, float"
      ],
      "execution_count": 2,
      "outputs": [
        {
          "output_type": "stream",
          "text": [
            "10 <class 'int'>\n",
            "10.74 <class 'float'>\n"
          ],
          "name": "stdout"
        }
      ]
    },
    {
      "cell_type": "code",
      "metadata": {
        "colab": {
          "base_uri": "https://localhost:8080/"
        },
        "id": "9OsJtik_-Fvl",
        "outputId": "5d0cd633-5020-46d8-fd81-e6bcca8e47ba"
      },
      "source": [
        "a, b = 23, 4\r\n",
        "c = a/b\r\n",
        "print(c, type(c)) # 5.75, float\r\n",
        "d = int(a/b)\r\n",
        "print(d, type(d)) # 5, int\r\n",
        "e = a/b\r\n",
        "print(e, type(e)) # 5.75, float"
      ],
      "execution_count": 5,
      "outputs": [
        {
          "output_type": "stream",
          "text": [
            "5.75 <class 'float'>\n",
            "5 <class 'int'>\n",
            "5.75 <class 'float'>\n"
          ],
          "name": "stdout"
        }
      ]
    },
    {
      "cell_type": "code",
      "metadata": {
        "colab": {
          "base_uri": "https://localhost:8080/"
        },
        "id": "0-qjrvcQ-5NE",
        "outputId": "37867c31-d8d2-4157-aeb6-62b9c7b2d285"
      },
      "source": [
        "# 관계 연산자\r\n",
        "a, b = 20, 20\r\n",
        "print(a is b) # True\r\n",
        "c, d = [10], [10]\r\n",
        "print(c is d) # False\r\n",
        "print(c==d) # True\r\n",
        "# is => 참조 영역, == => 값"
      ],
      "execution_count": 6,
      "outputs": [
        {
          "output_type": "stream",
          "text": [
            "True\n",
            "False\n",
            "True\n"
          ],
          "name": "stdout"
        }
      ]
    },
    {
      "cell_type": "code",
      "metadata": {
        "id": "a5O77VANAKdy"
      },
      "source": [
        "# 논리 연산자\r\n",
        "# x 변수의 값이 0 이상 100 미만\r\n",
        "if 0<=x and x<100:\r\n",
        "if 0 <= x < 100"
      ],
      "execution_count": null,
      "outputs": []
    },
    {
      "cell_type": "code",
      "metadata": {
        "id": "ii9ZwDJDAteG"
      },
      "source": [
        "# 조건식의 결과 판단하기\r\n",
        "a = 10\r\n",
        "if a>=0 :\r\n",
        "  # a가 0 이상일 때 실행할 코드"
      ],
      "execution_count": null,
      "outputs": []
    },
    {
      "cell_type": "code",
      "metadata": {
        "id": "cJq696O-A7YA"
      },
      "source": [
        "while 조건식 :\r\n",
        "  #조건식이 참일 동안 반복 실행\r\n",
        "\r\n",
        "for 변수명 in 리스트 :\r\n",
        "  # 리스트의 각 요소의 처리"
      ],
      "execution_count": null,
      "outputs": []
    },
    {
      "cell_type": "markdown",
      "metadata": {
        "id": "UqmmbS26BeE4"
      },
      "source": [
        "리스트 : 여러 가지 자료를 저장할 수 있도록 해주는 자료형<br>\r\n",
        "자료들을 모아서 사용할 수 있게 해 줌<br>\r\n",
        "대괄호 내부에 자료를 넣어 선언<br>\r\n",
        "리스트 이름 = [값1, 값2, 값3, ... ]"
      ]
    },
    {
      "cell_type": "markdown",
      "metadata": {
        "id": "CD7v2E3iBslC"
      },
      "source": [
        "요소 (element) : 리스트의 대괄호 내부에 넣는 자료"
      ]
    },
    {
      "cell_type": "code",
      "metadata": {
        "colab": {
          "base_uri": "https://localhost:8080/"
        },
        "id": "ACRrgDsrCynu",
        "outputId": "dad3b362-e90e-4892-916b-6b5dea876f20"
      },
      "source": [
        "# List의 이해\r\n",
        "a = []\r\n",
        "b = list()\r\n",
        "print('a is', type(a), 'length : ', len(a))\r\n",
        "print('b is', type(b), 'length : ', len(b))"
      ],
      "execution_count": 8,
      "outputs": [
        {
          "output_type": "stream",
          "text": [
            "a is <class 'list'> length :  0\n",
            "b is <class 'list'> length :  0\n"
          ],
          "name": "stdout"
        }
      ]
    },
    {
      "cell_type": "code",
      "metadata": {
        "colab": {
          "base_uri": "https://localhost:8080/"
        },
        "id": "e_hO2Sn2DFif",
        "outputId": "5178f4ba-7411-4533-8d82-a0d3c7800cc1"
      },
      "source": [
        "numbers = [1, 2, 3, 4, 5]\r\n",
        "print(numbers)\r\n",
        "numbers = list([1, 2, 3, 4, 5])\r\n",
        "print(numbers)\r\n",
        "print(numbers[0])"
      ],
      "execution_count": 9,
      "outputs": [
        {
          "output_type": "stream",
          "text": [
            "[1, 2, 3, 4, 5]\n",
            "[1, 2, 3, 4, 5]\n",
            "1\n"
          ],
          "name": "stdout"
        }
      ]
    },
    {
      "cell_type": "code",
      "metadata": {
        "colab": {
          "base_uri": "https://localhost:8080/"
        },
        "id": "FoI4GDTtDlD4",
        "outputId": "3a131455-a459-45aa-81c7-c095fa5419ec"
      },
      "source": [
        "# append() 메서드는 전달된 대상을 리스트의 끝에 추가한다.\r\n",
        "# 리스트를 append 하는 경우 그 리스트 자체가 하나의 요소가 된다.\r\n",
        "li = [1, 2, 3, 4, 5]\r\n",
        "print(li)\r\n",
        "li.append(6)\r\n",
        "print(li)\r\n",
        "li.append([10, 20, 30])\r\n",
        "print(li)"
      ],
      "execution_count": 10,
      "outputs": [
        {
          "output_type": "stream",
          "text": [
            "[1, 2, 3, 4, 5]\n",
            "[1, 2, 3, 4, 5, 6]\n",
            "[1, 2, 3, 4, 5, 6, [10, 20, 30]]\n"
          ],
          "name": "stdout"
        }
      ]
    },
    {
      "cell_type": "code",
      "metadata": {
        "colab": {
          "base_uri": "https://localhost:8080/"
        },
        "id": "waSnMiHKE0vo",
        "outputId": "e2ba9dcd-273a-4263-d2e2-4570e67f5192"
      },
      "source": [
        "li = [1, 2, 3, 4, 5]\r\n",
        "li.append(6)\r\n",
        "print(li[5]) # 6\r\n",
        "li.append([10, 20, 30])\r\n",
        "print(li[6]) # [10, 20, 30]\r\n",
        "print(li[6][0]) # 6\r\n",
        "# print(li[7]) out of range"
      ],
      "execution_count": 14,
      "outputs": [
        {
          "output_type": "stream",
          "text": [
            "6\n",
            "[10, 20, 30]\n",
            "10\n"
          ],
          "name": "stdout"
        }
      ]
    },
    {
      "cell_type": "code",
      "metadata": {
        "id": "8IpgFxqmFhT9"
      },
      "source": [
        ""
      ],
      "execution_count": null,
      "outputs": []
    },
    {
      "cell_type": "code",
      "metadata": {
        "colab": {
          "base_uri": "https://localhost:8080/"
        },
        "id": "avEUnyt4Fhlg",
        "outputId": "b590a5e5-741d-45a6-cf84-21ebdea2013a"
      },
      "source": [
        "# append 메서드 사용 (추가하기)\r\n",
        "first = [1, 2, 3]\r\n",
        "second = [10, 20, 30]\r\n",
        "first.append(second)\r\n",
        "print(first) # [1, 2, 3, [10, 20, 30]]\r\n",
        "print(first[3][0]) # 10"
      ],
      "execution_count": 16,
      "outputs": [
        {
          "output_type": "stream",
          "text": [
            "[1, 2, 3, [10, 20, 30]]\n",
            "10\n"
          ],
          "name": "stdout"
        }
      ]
    },
    {
      "cell_type": "code",
      "metadata": {
        "colab": {
          "base_uri": "https://localhost:8080/"
        },
        "id": "tycNhjSUF6t6",
        "outputId": "a0434c19-30c9-484b-9f64-61ecd93220b7"
      },
      "source": [
        "first = [1, 2, 3]\r\n",
        "second = [10, 20, 30]\r\n",
        "first = first + second\r\n",
        "print(first) # [1, 2, 3, 10, 20, 30]\r\n",
        "print(first[3]) # 10"
      ],
      "execution_count": 19,
      "outputs": [
        {
          "output_type": "stream",
          "text": [
            "[1, 2, 3, 10, 20, 30]\n",
            "10\n"
          ],
          "name": "stdout"
        }
      ]
    },
    {
      "cell_type": "code",
      "metadata": {
        "colab": {
          "base_uri": "https://localhost:8080/"
        },
        "id": "Bt5S6U29GVBe",
        "outputId": "e797cfc1-7231-4388-bda9-85cdf83b7c68"
      },
      "source": [
        "# 리스트명.copy()\r\n",
        "first = [1, 2, 3]\r\n",
        "second = first\r\n",
        "print(first, \"vs\", second) # [1, 2, 3] vs [1, 2, 3]\r\n",
        "\r\n",
        "first[0] = 10\r\n",
        "print(first, \"vs\", second) # [10, 2, 3] vs [10, 2, 3]"
      ],
      "execution_count": 20,
      "outputs": [
        {
          "output_type": "stream",
          "text": [
            "[1, 2, 3] vs [1, 2, 3]\n",
            "[10, 2, 3] vs [10, 2, 3]\n"
          ],
          "name": "stdout"
        }
      ]
    },
    {
      "cell_type": "code",
      "metadata": {
        "colab": {
          "base_uri": "https://localhost:8080/"
        },
        "id": "hkBODIBnGxoi",
        "outputId": "03d3a844-8a57-4bcc-b86b-602c8f16e508"
      },
      "source": [
        "# 리스트명.copy()\r\n",
        "first = [1, 2, 3]\r\n",
        "second = first.copy()\r\n",
        "print(first, \"vs\", second) # [1, 2, 3] vs [1, 2, 3]\r\n",
        "\r\n",
        "first[0] = 10\r\n",
        "print(first, \"vs\", second) # [10, 2, 3] vs [1, 2, 3]"
      ],
      "execution_count": 21,
      "outputs": [
        {
          "output_type": "stream",
          "text": [
            "[1, 2, 3] vs [1, 2, 3]\n",
            "[10, 2, 3] vs [1, 2, 3]\n"
          ],
          "name": "stdout"
        }
      ]
    },
    {
      "cell_type": "code",
      "metadata": {
        "colab": {
          "base_uri": "https://localhost:8080/"
        },
        "id": "19xpEF5PIESm",
        "outputId": "5d203cd2-02ca-46cf-d6ef-aaf36dca6d6f"
      },
      "source": [
        "# 리스트명.count(value), 리스트명.index(value) => 검색에서 유용하게 사용\r\n",
        "numbers = [1, 3, 3, 7, 8, 10]\r\n",
        "count = numbers.count(3) # 3이 몇 개 있는지, 없으면 0\r\n",
        "print(\"count of 3\", count)\r\n",
        "index = numbers.index(3)\r\n",
        "print(\"index of 3\", index) #3dl 몇 번 요소에 있는지 없으면 에러"
      ],
      "execution_count": 26,
      "outputs": [
        {
          "output_type": "stream",
          "text": [
            "count of 3 2\n",
            "index of 3 1\n"
          ],
          "name": "stdout"
        }
      ]
    },
    {
      "cell_type": "code",
      "metadata": {
        "colab": {
          "base_uri": "https://localhost:8080/"
        },
        "id": "X5bB87yzIYsG",
        "outputId": "18346952-1a11-4dea-b648-167f1b214538"
      },
      "source": [
        "numbers = [1, 5, 8, 9, 10]\r\n",
        "if 6 is numbers :\r\n",
        "  print(\"index of 6\", numbers.index(6))\r\n",
        "else:\r\n",
        "  print(\"not found 6 in list\")"
      ],
      "execution_count": 22,
      "outputs": [
        {
          "output_type": "stream",
          "text": [
            "not found 6 in list\n"
          ],
          "name": "stdout"
        }
      ]
    },
    {
      "cell_type": "code",
      "metadata": {
        "colab": {
          "base_uri": "https://localhost:8080/"
        },
        "id": "-jZh1o0DRh5C",
        "outputId": "ebcf9739-5152-4fc1-f3cd-2e04244f0128"
      },
      "source": [
        "# 리스트명.insert(index, value), 리스트명.remove(value)\r\n",
        "numbers = [1, 2, 3]\r\n",
        "numbers.insert(1, 4)\r\n",
        "print(numbers)\r\n",
        "numbers.remove(4)\r\n",
        "print(numbers)"
      ],
      "execution_count": 53,
      "outputs": [
        {
          "output_type": "stream",
          "text": [
            "[1, 4, 2, 3]\n",
            "[1, 2, 3]\n"
          ],
          "name": "stdout"
        }
      ]
    },
    {
      "cell_type": "code",
      "metadata": {
        "colab": {
          "base_uri": "https://localhost:8080/"
        },
        "id": "ma3yXggMMhwr",
        "outputId": "08507889-820f-4d43-ee4a-e3116cfd19c6"
      },
      "source": [
        "# 리스트명.sort()\r\n",
        "numbers = [1, 5,3, 7, 8, 10]\r\n",
        "numbers.sort()\r\n",
        "print(numbers)\r\n",
        "numbers.reverse()\r\n",
        "print(numbers)"
      ],
      "execution_count": 27,
      "outputs": [
        {
          "output_type": "stream",
          "text": [
            "[1, 3, 5, 7, 8, 10]\n",
            "[10, 8, 7, 5, 3, 1]\n"
          ],
          "name": "stdout"
        }
      ]
    },
    {
      "cell_type": "code",
      "metadata": {
        "colab": {
          "base_uri": "https://localhost:8080/"
        },
        "id": "tKteMlEAMp0y",
        "outputId": "04a09f43-ccd2-491e-bead-2b98647b588f"
      },
      "source": [
        "# 리스트명.pop()\r\n",
        "numbers = [10, 20, 30]\r\n",
        "print(numbers.pop())\r\n",
        "print(numbers.pop())\r\n",
        "print(len(numbers))\r\n",
        "print(numbers)"
      ],
      "execution_count": 30,
      "outputs": [
        {
          "output_type": "stream",
          "text": [
            "30\n",
            "20\n",
            "1\n",
            "[10]\n"
          ],
          "name": "stdout"
        }
      ]
    },
    {
      "cell_type": "code",
      "metadata": {
        "colab": {
          "base_uri": "https://localhost:8080/"
        },
        "id": "sq89SM5cNajT",
        "outputId": "b6a5ba23-b07f-47c5-beee-693322905a15"
      },
      "source": [
        "# for와 range 함수\r\n",
        "scores = [\"a\", \"b\", \"c\", \"d\", \"e\", \"f\"]\r\n",
        "for i in scores :\r\n",
        "  print(i)"
      ],
      "execution_count": 31,
      "outputs": [
        {
          "output_type": "stream",
          "text": [
            "a\n",
            "b\n",
            "c\n",
            "d\n",
            "e\n",
            "f\n"
          ],
          "name": "stdout"
        }
      ]
    },
    {
      "cell_type": "code",
      "metadata": {
        "colab": {
          "base_uri": "https://localhost:8080/"
        },
        "id": "GFbxg1kdNihl",
        "outputId": "253130f6-de23-4682-a63d-1262c95d5c87"
      },
      "source": [
        "scores = [\"a\", \"b\", \"c\", \"d\", \"e\", \"f\"]\r\n",
        "i=0\r\n",
        "while(i<len(scores)):\r\n",
        "  print(scores[i])\r\n",
        "  i+=1"
      ],
      "execution_count": 32,
      "outputs": [
        {
          "output_type": "stream",
          "text": [
            "a\n",
            "b\n",
            "c\n",
            "d\n",
            "e\n",
            "f\n"
          ],
          "name": "stdout"
        }
      ]
    },
    {
      "cell_type": "code",
      "metadata": {
        "colab": {
          "base_uri": "https://localhost:8080/"
        },
        "id": "jxv-bC83N5Em",
        "outputId": "b4c348cf-d39f-4c03-c5e4-f70dd1ca10f3"
      },
      "source": [
        "for i in range (5): # 0부터 종료값-1까지 반복\r\n",
        "  print(i)"
      ],
      "execution_count": 36,
      "outputs": [
        {
          "output_type": "stream",
          "text": [
            "0\n",
            "1\n",
            "2\n",
            "3\n",
            "4\n"
          ],
          "name": "stdout"
        }
      ]
    },
    {
      "cell_type": "code",
      "metadata": {
        "colab": {
          "base_uri": "https://localhost:8080/"
        },
        "id": "0K7KLQnpOGXM",
        "outputId": "df483f5c-6491-44d9-e809-57b659c35116"
      },
      "source": [
        "i=0\r\n",
        "while(i<5):\r\n",
        "  print(i)\r\n",
        "  i+=1"
      ],
      "execution_count": 37,
      "outputs": [
        {
          "output_type": "stream",
          "text": [
            "0\n",
            "1\n",
            "2\n",
            "3\n",
            "4\n"
          ],
          "name": "stdout"
        }
      ]
    },
    {
      "cell_type": "code",
      "metadata": {
        "colab": {
          "base_uri": "https://localhost:8080/"
        },
        "id": "O2WQPpz3Oeec",
        "outputId": "e7d217d5-e2a6-4ac7-8dbe-ff2f92098441"
      },
      "source": [
        "a = list(range(1, 10, 2))\r\n",
        "print(a)"
      ],
      "execution_count": 42,
      "outputs": [
        {
          "output_type": "stream",
          "text": [
            "[1, 3, 5, 7, 9]\n"
          ],
          "name": "stdout"
        }
      ]
    },
    {
      "cell_type": "code",
      "metadata": {
        "id": "iqQ_6QyGP0gk"
      },
      "source": [
        ""
      ],
      "execution_count": null,
      "outputs": []
    },
    {
      "cell_type": "code",
      "metadata": {
        "colab": {
          "base_uri": "https://localhost:8080/"
        },
        "id": "W9eHR-T9P0oe",
        "outputId": "f65bc825-93e4-456b-ce2e-987ff374e4a1"
      },
      "source": [
        "for i in range(5):\r\n",
        "  print(i, end = ', ')"
      ],
      "execution_count": 44,
      "outputs": [
        {
          "output_type": "stream",
          "text": [
            "0, 1, 2, 3, 4, "
          ],
          "name": "stdout"
        }
      ]
    },
    {
      "cell_type": "code",
      "metadata": {
        "colab": {
          "base_uri": "https://localhost:8080/"
        },
        "id": "LA7QKvsoP7no",
        "outputId": "6e367b91-c4d7-409b-a22f-38ad3ab4c48e"
      },
      "source": [
        "for i in list(range(5)):\r\n",
        "  print(i, end = ' ')"
      ],
      "execution_count": 48,
      "outputs": [
        {
          "output_type": "stream",
          "text": [
            "0 1 2 3 4 "
          ],
          "name": "stdout"
        }
      ]
    },
    {
      "cell_type": "code",
      "metadata": {
        "colab": {
          "base_uri": "https://localhost:8080/"
        },
        "id": "k4VVIsInQdW5",
        "outputId": "0732c03a-062a-42dd-a794-b893ba15206c"
      },
      "source": [
        "# 리스트에 임의의 정수를 저장하고 그 합과 평균을 구하는 코드\r\n",
        "# 최대값\r\n",
        "# 특정요소 찾기\r\n",
        "# 리스트 복사하기\r\n",
        "# 리스트 잘라내기\r\n",
        "\r\n",
        "arr = list(range(1, 11))\r\n",
        "# arr = [1, 2, 3, 4, 5, 6, 7, 8, 9, 10]\r\n",
        "# arr = list([1, 2, 3, 4, 5, 6, ,7 ,8 ,9 ,10])\r\n",
        "sum = 0\r\n",
        "print(arr)\r\n",
        "for i in arr :\r\n",
        "  sum += i\r\n",
        "avg = sum/len(arr)\r\n",
        "print(sum)\r\n",
        "print(avg)"
      ],
      "execution_count": 50,
      "outputs": [
        {
          "output_type": "stream",
          "text": [
            "[1, 2, 3, 4, 5, 6, 7, 8, 9, 10]\n",
            "55\n",
            "5.5\n"
          ],
          "name": "stdout"
        }
      ]
    },
    {
      "cell_type": "code",
      "metadata": {
        "colab": {
          "base_uri": "https://localhost:8080/"
        },
        "id": "URoGQ1jDSJnG",
        "outputId": "45f73d97-741d-4893-acc9-19c9a60cabbf"
      },
      "source": [
        "arr = [1, 2, -4, 56, -8, 89, 77, 23, 4, 22]\r\n",
        "max = arr[0]\r\n",
        "for i in arr:\r\n",
        "  if i>max:\r\n",
        "    max = i\r\n",
        "print(max)"
      ],
      "execution_count": 65,
      "outputs": [
        {
          "output_type": "stream",
          "text": [
            "89\n"
          ],
          "name": "stdout"
        }
      ]
    },
    {
      "cell_type": "code",
      "metadata": {
        "colab": {
          "base_uri": "https://localhost:8080/"
        },
        "id": "FAnld1X7SU47",
        "outputId": "7340cbeb-11f3-48c9-89fc-c3f03a7f42e8"
      },
      "source": [
        "arr = [1, 2, -4, 56, -8, 89, 77, 23, 4, 22]\r\n",
        "min = arr[0]\r\n",
        "for i in arr:\r\n",
        "  if min>i:\r\n",
        "    min = i\r\n",
        "print(min)"
      ],
      "execution_count": 60,
      "outputs": [
        {
          "output_type": "stream",
          "text": [
            "-8\n"
          ],
          "name": "stdout"
        }
      ]
    },
    {
      "cell_type": "code",
      "metadata": {
        "colab": {
          "base_uri": "https://localhost:8080/"
        },
        "id": "LFieGEv5S2uH",
        "outputId": "1279f27b-39e5-441b-913e-4242dd93e52a"
      },
      "source": [
        "arr = [1, 2, -4, 56, -8, 89, 77, 23, 4, 22]\r\n",
        "arr.sort()\r\n",
        "print(arr[0])\r\n",
        "print(arr[-1])\r\n",
        "arr.reverse()\r\n",
        "print(arr[0])"
      ],
      "execution_count": 66,
      "outputs": [
        {
          "output_type": "stream",
          "text": [
            "-8\n",
            "89\n",
            "89\n"
          ],
          "name": "stdout"
        }
      ]
    },
    {
      "cell_type": "code",
      "metadata": {
        "colab": {
          "base_uri": "https://localhost:8080/"
        },
        "id": "UtNjB_7gUaiU",
        "outputId": "0624f62d-aad1-4f26-86aa-5ae8ae36f6fe"
      },
      "source": [
        "arr = [1, 2, -4, 56, 8, 89, 77, 23, 4, 22]\r\n",
        "search_value = 8\r\n",
        "for i in arr :\r\n",
        "  if i == search_value:\r\n",
        "    print(i, \"찾았다.\")"
      ],
      "execution_count": 71,
      "outputs": [
        {
          "output_type": "stream",
          "text": [
            "8 찾았다.\n"
          ],
          "name": "stdout"
        }
      ]
    },
    {
      "cell_type": "code",
      "metadata": {
        "colab": {
          "base_uri": "https://localhost:8080/"
        },
        "id": "S4uQl5rbU3Hq",
        "outputId": "46ef3de4-2b76-4a37-ab75-7942ee840b47"
      },
      "source": [
        "arr = [1, 2, -4, 56, 8, 89, 77, 23, 4, 22]\r\n",
        "index = arr.index(8)\r\n",
        "print(index)"
      ],
      "execution_count": 72,
      "outputs": [
        {
          "output_type": "stream",
          "text": [
            "4\n"
          ],
          "name": "stdout"
        }
      ]
    },
    {
      "cell_type": "code",
      "metadata": {
        "colab": {
          "base_uri": "https://localhost:8080/"
        },
        "id": "WCP1oxZmVdRH",
        "outputId": "7992a847-51b9-4e66-c87c-2f74f92c7ccc"
      },
      "source": [
        "arr = [1, 2, -4, 56, 8, 89, 77, 23, 4, 22]\r\n",
        "try:\r\n",
        "  index = arr.index(0)\r\n",
        "  print(index)\r\n",
        "except:\r\n",
        "  print(\"찾지 못함\")"
      ],
      "execution_count": 73,
      "outputs": [
        {
          "output_type": "stream",
          "text": [
            "찾지 못함\n"
          ],
          "name": "stdout"
        }
      ]
    },
    {
      "cell_type": "code",
      "metadata": {
        "colab": {
          "base_uri": "https://localhost:8080/"
        },
        "id": "aintLwuvVklg",
        "outputId": "731c29ef-bfb3-4127-995a-14e18cb5e59f"
      },
      "source": [
        "arr = [1, 2, 8, 56, 8, 89, 77, 23, 4, 22]\r\n",
        "serach_value = 8\r\n",
        "try:\r\n",
        "  count = arr.count(search_value)\r\n",
        "  print(count)\r\n",
        "except:\r\n",
        "  print(\"찾지 못함\")"
      ],
      "execution_count": 74,
      "outputs": [
        {
          "output_type": "stream",
          "text": [
            "2\n"
          ],
          "name": "stdout"
        }
      ]
    },
    {
      "cell_type": "code",
      "metadata": {
        "colab": {
          "base_uri": "https://localhost:8080/"
        },
        "id": "cFzzTZATntrT",
        "outputId": "c126cc43-d940-4edd-cac6-d42814bb22a7"
      },
      "source": [
        "a = [1, 2, 3, 4, 5]\r\n",
        "b = []\r\n",
        "for i in a :\r\n",
        "  b.append(i)\r\n",
        "print(a)\r\n",
        "print(b)\r\n",
        "a[0] = 10\r\n",
        "print(a)\r\n",
        "print(b)"
      ],
      "execution_count": 76,
      "outputs": [
        {
          "output_type": "stream",
          "text": [
            "[1, 2, 3, 4, 5]\n",
            "[1, 2, 3, 4, 5]\n",
            "[10, 2, 3, 4, 5]\n",
            "[1, 2, 3, 4, 5]\n"
          ],
          "name": "stdout"
        }
      ]
    },
    {
      "cell_type": "code",
      "metadata": {
        "colab": {
          "base_uri": "https://localhost:8080/"
        },
        "id": "sKXVmZOHqU7q",
        "outputId": "4d69572b-997b-488e-bf53-388ed4865e89"
      },
      "source": [
        "c = '1'\r\n",
        "n = ord(c)\r\n",
        "# ord => 아스키 값으로 반환\r\n",
        "print(n, type(n))\r\n",
        "m = int(c)\r\n",
        "print(m, type(c), type(m))"
      ],
      "execution_count": 80,
      "outputs": [
        {
          "output_type": "stream",
          "text": [
            "49 <class 'int'>\n",
            "1 <class 'str'> <class 'int'>\n"
          ],
          "name": "stdout"
        }
      ]
    },
    {
      "cell_type": "code",
      "metadata": {
        "colab": {
          "base_uri": "https://localhost:8080/"
        },
        "id": "dl-wxFK3rEVQ",
        "outputId": "1c34057c-ba6a-4a65-9ad7-13c9087fbbd0"
      },
      "source": [
        "string = str(1234)\r\n",
        "print(string)\r\n",
        "string = str([1, 23, 4])\r\n",
        "print(string, string[0])\r\n",
        "string = str('12'+'34')\r\n",
        "print(string)"
      ],
      "execution_count": 82,
      "outputs": [
        {
          "output_type": "stream",
          "text": [
            "1234\n",
            "[1, 23, 4] [\n",
            "1234\n"
          ],
          "name": "stdout"
        }
      ]
    },
    {
      "cell_type": "code",
      "metadata": {
        "colab": {
          "base_uri": "https://localhost:8080/"
        },
        "id": "xun63nGhscSS",
        "outputId": "1f1ec9c8-c091-455a-b50c-d136d244b6fb"
      },
      "source": [
        "s = \"this is string constant\"\r\n",
        "print(s, type(s))\r\n",
        "i=0\r\n",
        "while i<len(s):\r\n",
        "  print(s[i], end=\"\")\r\n",
        "  i+=1\r\n",
        "print(\"\")\r\n",
        "for i in s:\r\n",
        "  print(i, end=\"\")"
      ],
      "execution_count": 86,
      "outputs": [
        {
          "output_type": "stream",
          "text": [
            "this is string constant <class 'str'>\n",
            "this is string constant\n",
            "this is string constant"
          ],
          "name": "stdout"
        }
      ]
    },
    {
      "cell_type": "code",
      "metadata": {
        "colab": {
          "base_uri": "https://localhost:8080/"
        },
        "id": "29KkwyM0thuB",
        "outputId": "34ed2b07-d3cb-4623-c552-47f63aa31fce"
      },
      "source": [
        "# 문자열 내에 특정 문자를 확인하는 코드\r\n",
        "string = \"this is string constant\"\r\n",
        "char = 't'\r\n",
        "char_count = 0\r\n",
        "for i in string:\r\n",
        "  if i == char:\r\n",
        "    char_count+=1\r\n",
        "print('t의 개수 : ', char_count)"
      ],
      "execution_count": 89,
      "outputs": [
        {
          "output_type": "stream",
          "text": [
            "t의 개수 :  4\n"
          ],
          "name": "stdout"
        }
      ]
    },
    {
      "cell_type": "code",
      "metadata": {
        "colab": {
          "base_uri": "https://localhost:8080/"
        },
        "id": "lUdVFIfiuA9N",
        "outputId": "28e83527-8430-4947-e5c0-3014848351ca"
      },
      "source": [
        "string = \"this is string constant\"\r\n",
        "char = 't'\r\n",
        "char_count = 0\r\n",
        "i = 0\r\n",
        "while i<len(string):\r\n",
        "  if string[i] == char:\r\n",
        "    char_count+=1\r\n",
        "  i+=1\r\n",
        "print('t의 개수 : ', char_count)"
      ],
      "execution_count": 94,
      "outputs": [
        {
          "output_type": "stream",
          "text": [
            "t의 개수 :  4\n"
          ],
          "name": "stdout"
        }
      ]
    },
    {
      "cell_type": "code",
      "metadata": {
        "colab": {
          "base_uri": "https://localhost:8080/"
        },
        "id": "hOa6K0b3vxjy",
        "outputId": "f6a28c89-74ad-4d6b-bb92-01f41d03bf61"
      },
      "source": [
        "string = \"python, this is string constant\"\r\n",
        "print(string)\r\n",
        "substring = \"is\"\r\n",
        "try:\r\n",
        "  print(string.count(substring), \"개 포함\")\r\n",
        "  print(string.index(substring), '번에 위치함')\r\n",
        "  print(string.find(substring), '번에 위치함')\r\n",
        "except:\r\n",
        "  print('없다')"
      ],
      "execution_count": 100,
      "outputs": [
        {
          "output_type": "stream",
          "text": [
            "python, this is string constant\n",
            "2 개 포함\n",
            "10 번에 위치함\n",
            "10 번에 위치함\n"
          ],
          "name": "stdout"
        }
      ]
    },
    {
      "cell_type": "code",
      "metadata": {
        "colab": {
          "base_uri": "https://localhost:8080/"
        },
        "id": "FPl5c-HGyNBE",
        "outputId": "45b1899f-2bd3-4cc9-fb75-779792cfabc5"
      },
      "source": [
        "delim = ')('\r\n",
        "arg_list = ['a', 'b']\r\n",
        "string = '(' + delim.join(arg_list) + ')'\r\n",
        "print(string)"
      ],
      "execution_count": 101,
      "outputs": [
        {
          "output_type": "stream",
          "text": [
            "(a)(b)\n"
          ],
          "name": "stdout"
        }
      ]
    },
    {
      "cell_type": "code",
      "metadata": {
        "colab": {
          "base_uri": "https://localhost:8080/"
        },
        "id": "ASo2wVf528qV",
        "outputId": "ae7b1ce8-38be-4068-9c2b-6b28f8ea619a"
      },
      "source": [
        "string = \"this is string constant\"\r\n",
        "splited = string.split(\" \")\r\n",
        "print(type(splited), splited)"
      ],
      "execution_count": 102,
      "outputs": [
        {
          "output_type": "stream",
          "text": [
            "<class 'list'> ['this', 'is', 'string', 'constant']\n"
          ],
          "name": "stdout"
        }
      ]
    },
    {
      "cell_type": "code",
      "metadata": {
        "colab": {
          "base_uri": "https://localhost:8080/"
        },
        "id": "yB3eChqf3TzO",
        "outputId": "48e23a59-e2d9-41b3-a7c2-88776fb7ffd0"
      },
      "source": [
        "s = \"this is string constant\"\r\n",
        "print(s)\r\n",
        "# s[0] = 'T' 문자열을 수정할 수 없다."
      ],
      "execution_count": 107,
      "outputs": [
        {
          "output_type": "stream",
          "text": [
            "this is string constant\n"
          ],
          "name": "stdout"
        }
      ]
    },
    {
      "cell_type": "code",
      "metadata": {
        "colab": {
          "base_uri": "https://localhost:8080/"
        },
        "id": "7OMqU43Z3yjg",
        "outputId": "c8550c43-5091-4383-e2a1-73191b0c2820"
      },
      "source": [
        "s = \"this is string constant\"\r\n",
        "upchar = s[0].upper()\r\n",
        "print(upchar)\r\n",
        "upchar += s[1:]\r\n",
        "print(upchar)\r\n",
        "print(s)\r\n"
      ],
      "execution_count": 108,
      "outputs": [
        {
          "output_type": "stream",
          "text": [
            "T\n",
            "This is string constant\n",
            "this is string constant\n"
          ],
          "name": "stdout"
        }
      ]
    },
    {
      "cell_type": "code",
      "metadata": {
        "colab": {
          "base_uri": "https://localhost:8080/"
        },
        "id": "-fwcGRMd39rT",
        "outputId": "35e12233-5731-439c-e9bc-04a54a0c8830"
      },
      "source": [
        "string = \"this is string constant\"\r\n",
        "changed = string.replace('t', 'T', 1)\r\n",
        "print(string)\r\n",
        "print(changed)"
      ],
      "execution_count": 111,
      "outputs": [
        {
          "output_type": "stream",
          "text": [
            "this is string constant\n",
            "This is string constant\n"
          ],
          "name": "stdout"
        }
      ]
    },
    {
      "cell_type": "code",
      "metadata": {
        "colab": {
          "base_uri": "https://localhost:8080/"
        },
        "id": "X6yfTcj14WtD",
        "outputId": "1133ec02-aa2d-483d-a0f7-adc7d85a354b"
      },
      "source": [
        "country = [\"한국\", \"미국\", \"영국\"]\r\n",
        "country.append(\"독일\")\r\n",
        "for name in country :\r\n",
        "  print(name)\r\n",
        "for name in country:\r\n",
        "  if name == \"독일\" :\r\n",
        "    print(\"독일 찾았다.\")"
      ],
      "execution_count": 112,
      "outputs": [
        {
          "output_type": "stream",
          "text": [
            "한국\n",
            "미국\n",
            "영국\n",
            "독일\n",
            "독일 찾았다.\n"
          ],
          "name": "stdout"
        }
      ]
    },
    {
      "cell_type": "code",
      "metadata": {
        "colab": {
          "base_uri": "https://localhost:8080/"
        },
        "id": "yleViqCd5dHL",
        "outputId": "fbb1d8e4-b7be-4c2f-9bf3-7711687dbee3"
      },
      "source": [
        "country = [\"한국\", \"미국\", \"영국\"]\r\n",
        "# country1 = \"한국 미국 영국 독일\"\r\n",
        "country.append(\"독일\")\r\n",
        "search_name = \"독일\"\r\n",
        "\r\n",
        "try:\r\n",
        "  country.index(search_name)\r\n",
        "except:\r\n",
        "  print(\"존재하지 않음\")\r\n",
        "else:\r\n",
        "    print(search_name + \"존재함\")"
      ],
      "execution_count": 117,
      "outputs": [
        {
          "output_type": "stream",
          "text": [
            "독일존재함\n"
          ],
          "name": "stdout"
        }
      ]
    },
    {
      "cell_type": "code",
      "metadata": {
        "colab": {
          "base_uri": "https://localhost:8080/"
        },
        "id": "xg9Gl2JO6axi",
        "outputId": "98e3f28b-8856-4096-f180-b5c65d53f04f"
      },
      "source": [
        "countries = [\"한국\", \"미국\", \"영국\", \"독일\", \"영국\"]\r\n",
        "search_country = \"영국\"\r\n",
        "count_num = 0\r\n",
        "for country in countries:\r\n",
        "  if search_country == country:\r\n",
        "    count_num+=1\r\n",
        "\r\n",
        "print(\"영국의 개수 >> \", count_num)"
      ],
      "execution_count": 118,
      "outputs": [
        {
          "output_type": "stream",
          "text": [
            "영국의 개수 >>  2\n"
          ],
          "name": "stdout"
        }
      ]
    },
    {
      "cell_type": "code",
      "metadata": {
        "colab": {
          "base_uri": "https://localhost:8080/"
        },
        "id": "s4mUgmrf8mbh",
        "outputId": "484579ab-09eb-40b1-b10b-480867ff11bb"
      },
      "source": [
        "ga = 10\r\n",
        "\r\n",
        "def func_a():\r\n",
        "  num=1\r\n",
        "  num=num+ga\r\n",
        "  print(num)\r\n",
        "\r\n",
        "func_a()"
      ],
      "execution_count": 119,
      "outputs": [
        {
          "output_type": "stream",
          "text": [
            "11\n"
          ],
          "name": "stdout"
        }
      ]
    },
    {
      "cell_type": "code",
      "metadata": {
        "colab": {
          "base_uri": "https://localhost:8080/"
        },
        "id": "uIb4nGVT9qsI",
        "outputId": "dc0cf528-9e13-4f04-e6b0-07808dca8b27"
      },
      "source": [
        "def func_a():\r\n",
        "  num=1\r\n",
        "  num=num+ga\r\n",
        "  print(\"id of ga in func_A\", id(ga))\r\n",
        "\r\n",
        "ga = 10\r\n",
        "print(\"id of ga\", id(ga))\r\n",
        "func_a()\r\n",
        "print(\"id of ga\", id(ga))"
      ],
      "execution_count": 120,
      "outputs": [
        {
          "output_type": "stream",
          "text": [
            "id of ga 10914784\n",
            "id of ga in func_A 10914784\n",
            "id of ga 10914784\n"
          ],
          "name": "stdout"
        }
      ]
    },
    {
      "cell_type": "code",
      "metadata": {
        "colab": {
          "base_uri": "https://localhost:8080/"
        },
        "id": "xssqFhpH-Q9f",
        "outputId": "1e29c434-ca24-4899-9a59-5183429cef21"
      },
      "source": [
        "def func_a():\r\n",
        "  num=1\r\n",
        "  ga=20\r\n",
        "  print(\"ga in func_a\", ga)\r\n",
        "\r\n",
        "ga= 10\r\n",
        "print(\"ga\", ga)\r\n",
        "func_a()\r\n",
        "print(\"ga\", ga)"
      ],
      "execution_count": 121,
      "outputs": [
        {
          "output_type": "stream",
          "text": [
            "ga 10\n",
            "ga in func_a 20\n",
            "ga 10\n"
          ],
          "name": "stdout"
        }
      ]
    },
    {
      "cell_type": "code",
      "metadata": {
        "colab": {
          "base_uri": "https://localhost:8080/"
        },
        "id": "jM6Hc2G--133",
        "outputId": "02179e5d-f985-48ab-836d-199ff6d643d7"
      },
      "source": [
        "def func_a():\r\n",
        "  global ga\r\n",
        "  num=1\r\n",
        "  ga=20\r\n",
        "  print(\"ga in func_a\", ga)\r\n",
        "\r\n",
        "ga= 10\r\n",
        "print(\"ga\", ga)\r\n",
        "func_a()\r\n",
        "print(\"ga\", ga)"
      ],
      "execution_count": 122,
      "outputs": [
        {
          "output_type": "stream",
          "text": [
            "ga 10\n",
            "ga in func_a 20\n",
            "ga 20\n"
          ],
          "name": "stdout"
        }
      ]
    }
  ]
}
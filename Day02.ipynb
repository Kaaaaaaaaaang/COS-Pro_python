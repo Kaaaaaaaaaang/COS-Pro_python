{
  "nbformat": 4,
  "nbformat_minor": 0,
  "metadata": {
    "colab": {
      "name": "Day02.ipynb",
      "provenance": [],
      "collapsed_sections": [],
      "authorship_tag": "ABX9TyMnI6Z8L2g2POelQ5hWnyut",
      "include_colab_link": true
    },
    "kernelspec": {
      "name": "python3",
      "display_name": "Python 3"
    }
  },
  "cells": [
    {
      "cell_type": "markdown",
      "metadata": {
        "id": "view-in-github",
        "colab_type": "text"
      },
      "source": [
        "<a href=\"https://colab.research.google.com/github/Kaaaaaaaaaang/COS_pro_study/blob/main/Day02.ipynb\" target=\"_parent\"><img src=\"https://colab.research.google.com/assets/colab-badge.svg\" alt=\"Open In Colab\"/></a>"
      ]
    },
    {
      "cell_type": "markdown",
      "metadata": {
        "id": "X37AMMHgCLfg"
      },
      "source": [
        "A학교에서는 단체 티셔츠를 주문하기 위해 학생 별로 원하는 티셔츠를 조사했다. 선택할 수 있는 티셔츠 사이즈는 작은 순서대로 \"XS\", \"S\", \"M\", \"L\", \"XL\", \"XXL\" 학생 별로 원하는 티셔츠 사이즈를 조사한 결과가 들어있는 리스트 shirt_size가 매개변수로 주어질 때, 사이즈 별로 티셔츠가 몇 벌씩 필요한지 가장 작은 사이즈부터 순서대로 리스트에 담아\r\n",
        "return 하도록 solution 함수를 완성해주세요.\r\n"
      ]
    },
    {
      "cell_type": "code",
      "metadata": {
        "id": "1hPVFdBlCJOk"
      },
      "source": [
        "def solution(shirt_size):\r\n",
        "  answer=[0, 0, 0, 0, 0, 0]\r\n",
        "  for size in shirt_size:\r\n",
        "    if size == \"XS\":\r\n",
        "      answer[0] = answer[0]+1\r\n",
        "    elif size == \"S\":\r\n",
        "      answer[1] = answer[1]+1\r\n",
        "    elif size == \"M\":\r\n",
        "      answer[2] = answer[2]+1\r\n",
        "    elif size == \"L\":\r\n",
        "      answer[3] = answer[3]+1\r\n",
        "    elif size == \"XL\":\r\n",
        "      answer[4] = answer[4]+1\r\n",
        "    elif size == \"XXL\":\r\n",
        "      answer[5] = answer[5]+1\r\n",
        "  return anwer\r\n",
        "  \r\n",
        "  shirt_size = [\"XS\", \"S\", \"M\", \"L\", \"XL\", \"XXL\", \"L\"]\r\n",
        "  solution(shirt_size)"
      ],
      "execution_count": null,
      "outputs": []
    },
    {
      "cell_type": "markdown",
      "metadata": {
        "id": "SycSeWt2-9mA"
      },
      "source": [
        "A쇼핑몰에서는 회원 등급에 따라 할인 서비스를 제공합니다. 회원 등급에 따른 할인율은 다음과 같습니다. (S=실버, G=골드, V=VIP)\r\n",
        "\r\n",
        "S => 5%\r\n",
        "G => 10%\r\n",
        "V => 15%\r\n",
        "\r\n",
        "상품의 가격 price와 구매자의 회원 등급을 나타내는 문자열 grade가 매개변수로 주어질 때, 할인 서비스를 적용한 가격을 return 하도록 solution 함수를 완성해주세요.\r\n",
        "price는 100이상 100,000이하의 100단위 자연수"
      ]
    },
    {
      "cell_type": "code",
      "metadata": {
        "colab": {
          "base_uri": "https://localhost:8080/"
        },
        "id": "QplrIDeK8Dyn",
        "outputId": "8550ce91-382f-4fbe-ec30-ba4621ca99c8"
      },
      "source": [
        "def solution(price, grade):\r\n",
        "  answer=0\r\n",
        "  if grade==\"S\":\r\n",
        "    answer = int(price*0.95)\r\n",
        "  elif grade==\"G\":\r\n",
        "    answer=int(price*0.9)\r\n",
        "  elif grade==\"V\":\r\n",
        "    answer=int(price*0.85)\r\n",
        "  return answer\r\n",
        "\r\n",
        "solution(300, 'G')\r\n"
      ],
      "execution_count": 1,
      "outputs": [
        {
          "output_type": "execute_result",
          "data": {
            "text/plain": [
              "270"
            ]
          },
          "metadata": {
            "tags": []
          },
          "execution_count": 1
        }
      ]
    },
    {
      "cell_type": "markdown",
      "metadata": {
        "id": "hfKYeLhw9vY0"
      },
      "source": [
        "시작 날짜와 끝 날짜가 주어질 때, 두 날짜가 며칠만큼 떨어져 있는지(D-day)를 구하려 합니다.<br>\r\n",
        "이를 위해 다음과 같이 3단계로 간단히 프로그램 구조를 작성했습니다.(단, 윤년은 고려하지 않습니다.)<br><br>\r\n",
        "1단계 : 시작 날짜가 1월 1일로부터 며칠만큼 떨어져 있는지 구합니다.<br>\r\n",
        "2단계 : 끝 날짜가 1월 1일로부터 며칠만큼 떨어져 있는지 구합니다.<br>\r\n",
        "3단계 : (2단계에서 구한 날짜) - (1단계에서 구한 날짜)를 구합니다.<br><br>\r\n",
        "시작 날짜의 월, 일을 나타내는 startmonth, startday, 끝 날짜의 월, 일을 나타내는 endmonth, endday가 매개변수로 주어질 때, 시작 날짜와 끝 날짜가 며칠만큼 떨어져 있는지 return 하도록 solution 함수를 작성했습니다. 이때 위 구조를 참고하여 중복되는 부분은 func_a라는 함수로 작성했습니다. 코드가 올바르게 동작할 수 있도록 빈칸을 알맞게 채워주세요."
      ]
    },
    {
      "cell_type": "code",
      "metadata": {
        "id": "pFESc7Rg8_DH"
      },
      "source": [
        "def func_a(month, day):\r\n",
        "  month_list[] = [31, 28, 31, 30, 31, 30, 31, 31, 30, 31, 30, 31]\r\n",
        "  total = 0\r\n",
        "  for i in range(month-1):\r\n",
        "    total+=month_list[i]\r\n",
        "  total+=day\r\n",
        "\r\n",
        "  return total-1\r\n",
        "\r\n",
        "def solution(start_month, start_day, end_month, end_day):\r\n",
        "  int start_total = func_a(start_month, start_day)\r\n",
        "  int end_total = func_a(end_month, end_day)\r\n",
        "  return end_total - start_total"
      ],
      "execution_count": null,
      "outputs": []
    },
    {
      "cell_type": "markdown",
      "metadata": {
        "id": "WGHyNj46CUsq"
      },
      "source": [
        "자연수가 들어있는 리스트가 있습니다. 이 리스트에서 가장 많이 등장하는 숫자의 개수는 가장 적게 등장하는<br>숫자 개수의 몇 배인지 구하려 합니다. 이를 위해 다음과 같이 간단히 프로그램 구조를 작성했습니다.<br><br>\r\n",
        "1단계 리스트에 들어있는 각 자연수의 개수를 셉니다.<br>\r\n",
        "2단계 가장 많이 등장하는 수의 개수를 구합니다.<br>\r\n",
        "3단계 가장 적게 등장하는 수의 개수를 구합니다.<br>\r\n",
        "4단계 가장 많이 등장하는 수가 가장 적게 등장하는 수보다 몇 배 더 많은지 구합니다.<br><br>\r\n",
        "단, 몇 배 더 많은지 구할 때는 소수 부분은 버리고 정수 부분만 구하면 됩니다. <br>\r\n",
        "자연수가 들어있는 리스트 arr이 매개변수로 주어질 때, 가장 많이 등장하는 숫자가 가장 적게 등장하는 숫자보다 몇 배 더 많은지 return 하도록<br>solution 함수를 작성하려 합니다. 위 구조를 참고하여 코드가 올바르게 동작할 수 있도록 빈칸에 주어진 func_a, func_b, func_c 함수와 매개변수를 알맞게 채워주세요."
      ]
    },
    {
      "cell_type": "code",
      "metadata": {
        "id": "hDcrNqrNA4bE"
      },
      "source": [
        "def func_a(arr):\r\n",
        "  counter = [0 for _ in range(1001)]\r\n",
        "  for x in arr:\r\n",
        "    counter[x] += 1\r\n",
        "  return counter\r\n",
        "\r\n",
        "def func_b(arr):\r\n",
        "  ret = 0\r\n",
        "  for x in arr:\r\n",
        "    if ret<x:\r\n",
        "      ret = x\r\n",
        "  return ret\r\n",
        "\r\n",
        "def func_c(arr):\r\n",
        "  INF = 1001\r\n",
        "  ret = INF\r\n",
        "  for x in arr:\r\n",
        "    if x!=0 and ret>x:\r\n",
        "      ret = x\r\n",
        "  return ret\r\n",
        "\r\n",
        "def solution(arr):\r\n",
        "  counter = func_a(arr)\r\n",
        "  max_cnt = func_b(counter)\r\n",
        "  min_cnt = func_c(counter)\r\n",
        "\r\n",
        "  return max_cnt // min_cnt"
      ],
      "execution_count": null,
      "outputs": []
    },
    {
      "cell_type": "markdown",
      "metadata": {
        "id": "PRrS7hc6O5l8"
      },
      "source": [
        "주어진 리스트의 순서를 뒤집으려고 합니다. 예를 들어, 주어진 리스트가 [1, 4, 2, 3]이면, 순서를 뒤집은 리스트를 [3, 2, 4, 1]입니다. 정수가 들어있는 리스트 arr이 매개변수로 주어졌을 때, arr을 뒤집어서 return 하도록 solution 함수를 작성하려 합니다. 빈칸을 채워 전체 코드를 완성해주세요. \r\n",
        "\r\n",
        "매개변수 설명<br>\r\n",
        "arr의 길이는 1 이상 1000 이하이며, 저장되는 요소의 값은 -100 이상 100 이하 정수"
      ]
    },
    {
      "cell_type": "code",
      "metadata": {
        "id": "ye7VsWVTM3ie"
      },
      "source": [
        "def solution(arr):\r\n",
        "  left, right=0, len(arr)-1\r\n",
        "  while left<right :\r\n",
        "    arr[left], arr[right] = arr[right], arr[left]\r\n",
        "    left+=1\r\n",
        "    right-=1\r\n",
        "  return arr\r\n",
        "\r\n",
        "# 아래는 테스트케이스 출력을 해보기 위한 코드입니다.\r\n",
        "arr = [1, 4, 2, 3]\r\n",
        "ret = solution(arr)"
      ],
      "execution_count": null,
      "outputs": []
    },
    {
      "cell_type": "markdown",
      "metadata": {
        "id": "OjeugpT2OP0q"
      },
      "source": [
        "369 게임은 여러 명이 같이하는 게임입니다. 게임의 규칙을 아래와 같습니다. 1부터 시작합니다. 한 사람씩 차례대로 숫자를 1씩 더해가며 말합니다. 말해야 하는 숫자에 3, 6, 9 중 하나라도 포함되어 있다면 숫자를 말하는 대신 숫자에 포함된 3, 6, 9의 개수만큼 손뼉을 칩니다. 어떤 수 number가 매개변수로 주어질 때, 1부터 number까지 369게임을 올바르게 진행했을 경우 박수를 총 몇 번 쳤는지를 return 하도록 solutoin 함수를 작성하려 합니다. 빈칸을 채워 전체 코드를 완성해주세요.\r\n",
        "\r\n",
        "매개변수 설명<br>\r\n",
        "number는 10 이상 1,000 이하의 자연수입니다."
      ]
    },
    {
      "cell_type": "code",
      "metadata": {
        "id": "RQhAVUNXNeUv"
      },
      "source": [
        "def solution(number):\r\n",
        "  number=0\r\n",
        "  for i in range(1, number+1):\r\n",
        "    current=i\r\n",
        "    temp=count\r\n",
        "    while current!=0:\r\n",
        "      if current%10 == 3 or current%10 == 6 or current%10 == 9 :\r\n",
        "        count+=1\r\n",
        "        print(\"짝\", end=\"\")\r\n",
        "      current = current//10\r\n",
        "      if temp==count:\r\n",
        "        print(i, end=\"\")\r\n",
        "      print(\" \", end=\"\")\r\n",
        "    print(\"\")\r\n",
        "  return count"
      ],
      "execution_count": null,
      "outputs": []
    },
    {
      "cell_type": "markdown",
      "metadata": {
        "id": "uyiTj2FXW98L"
      },
      "source": [
        "A대학에서는 수준별 영어 강의를 제공하고 있습니다. 초급 영어 강의는 토익시험에서 650점 이상 800점 미만의 성적을 취득한 학생만을 수강 대상으로 하고 있습니다. 초급 영어 강의에 수강 신청한 사람이 10명일 대, 이중에서 몇 명이 수강 대상에 해당하는지 확인하려 합니다.<br><br>수강신청자들의 토익 성적이 들어있는 리스트 scores가 매개변수로 주어질 때, 수강 대상자들의 인원수를 return 하도록 solution 함수를 작성했습니다. 그러나, 코드 일부분이 잘못되어있기 때문에, 몇몇 입력에 대해서는 올바르게 동작하지 않습니다. 주어진 코드에서 한 줄만 변경해서 모든 입력에 대해 올바르게 동작하도록 수정해주세요."
      ]
    },
    {
      "cell_type": "code",
      "metadata": {
        "id": "xTk7X5jKXbtq"
      },
      "source": [
        "def solution(scores):\r\n",
        "  count = 0\r\n",
        "  for s in scores:\r\n",
        "    if 650<=s and s<800:\r\n",
        "      count+=1\r\n",
        "  return count"
      ],
      "execution_count": null,
      "outputs": []
    },
    {
      "cell_type": "markdown",
      "metadata": {
        "id": "ShVJ8jGWXotL"
      },
      "source": [
        "앞에서부터 읽을 때와 뒤에서부터 읽을 때 똑같은 단어 또는 문장을 팰린드롬이라고 합니다. 예를들어 racecar, noon은 팰린드롬 단어입니다. 소문자 알파벳, 공백(\" \"), 그리고 마침표(\".\")로 이루어진 문장이 팰린드롬 문장인지 점검하려 합니다. 문장 내에서 알파벳만 추출하였을 때에 팰린들모 단어이면 팰린드롬 문장입니다. 예를 들어 \"never odd or even.\"과 같은 문장은 팰린드롬입니다.<br><br>소문자 알파벳, 공백(\" \"), 그리고 마침표(\".\")로 이루어진 문장 sentence가 주어질 때 팰린드롬인지 아닌지를 return 하도록 solution 함수를 작성했습니다. 그러나, 코드 일부분이 잘못되어있기 때문에, 몇몇 입력에 대해서는 올바르게 동작하지 않습니다. 주어진 코드에서 한 줄만 변경해서 모든 입력에 대해올바르게 동작하도록 수정해주세요."
      ]
    },
    {
      "cell_type": "code",
      "metadata": {
        "id": "lXemAZ_JYOtz"
      },
      "source": [
        "def solution(sentence):\r\n",
        "  str = ''\r\n",
        "  for c in sentence:\r\n",
        "    if c!='.' and c!= ' ':\r\n",
        "      str+=c\r\n",
        "  size = len(str)\r\n",
        "  for i in range(size//2):\r\n",
        "    if str[i] != str[size-1-i]:\r\n",
        "      return False\r\n",
        "  return True"
      ],
      "execution_count": null,
      "outputs": []
    },
    {
      "cell_type": "markdown",
      "metadata": {
        "id": "8fv1pa-OY11B"
      },
      "source": [
        "알파벳 문자열이 주어질 때, 연속하는 중복 문자를 삭제하려고 합니다. 예를 들어, \"senteeeeeen ccccceee\"라는 문자열이 주어진다면 \"sentence\"라는 결과물이 나옵니다.<br><br>영어 소문자 알파벳으로 이루어진 임의의 문자열 characters가 매개변수로 주어질 대, 연속하는 중복 문자들을 삭제한 결과를 return 하도록 solution 함수를 작성하였습니다. 그러나, 코드 일부분이 잘못되었기 때문에, 몇몇 입력에 대해서는 올바르게 동작하지 않습니다. 주어진 코드에서 한 줄만 변경해서 모든 입력에 대해 올바르게 동작하도록 수정해주세요."
      ]
    },
    {
      "cell_type": "code",
      "metadata": {
        "id": "lZuEGfwCZSgb"
      },
      "source": [
        "def solution(characters):\r\n",
        "  result = \"\"\r\n",
        "  result+=characters[0]\r\n",
        "  for i in range(1, len(characters)):\r\n",
        "    if characters[i-1] != characters[i]:\r\n",
        "      result+=characters[i]\r\n",
        "  return result\r\n",
        "\r\n",
        "\r\n",
        "characters = \"senteeeeenccccccceeee\"\r\n",
        "ret = solution(characters)"
      ],
      "execution_count": 3,
      "outputs": []
    },
    {
      "cell_type": "markdown",
      "metadata": {
        "id": "d7dmQBqGaXOL"
      },
      "source": [
        "평균은 자료의 합을 자료의 개수로 나눈 값을 의미합니다. 자연수가 들어있는 리스트의 평균을 구하고, 평균 이하인 숫자는 몇 개 있는지 구하려 합니다. 예를 들어 주어진 리스트가 [1, 2, 3, 4, 5, 6, 7, 8, 9, 10]이라면, 평균은 5.5이므로 평균 이하인 값은 5개입니다.<br><br>자연수가 들어있는 리스트 data가 매개변수로 주어질 때, 리스트에 평균 이하인 값은 몇 개인지 return 하도록 solution 함수를 작성했습니다. 그러나, 코드 일부분이 잘못되어 있기 때문에, 몇몇 입력에 대해서는 올바르게 동작하지 않습니다. 주어진 코드에서 한 줄만 변경해서 모든 입력에 대해 올바르게 동작하도록 수정하세요."
      ]
    },
    {
      "cell_type": "code",
      "metadata": {
        "id": "IouHZiija0x8"
      },
      "source": [
        "def solution(data):\r\n",
        "  total = sum(data)\r\n",
        "  average = total/len(data)\r\n",
        "  cnt = 0\r\n",
        "  for d in data:\r\n",
        "    if d<=average:\r\n",
        "      cnt+=1\r\n",
        "  return cnt\r\n",
        "\r\n",
        "data1 = [1, 2, 3, 4, 5, 6, 7, 8, 9, 10]\r\n",
        "ret1 = solution(data1)"
      ],
      "execution_count": null,
      "outputs": []
    },
    {
      "cell_type": "markdown",
      "metadata": {
        "id": "cUHQThyfw60r"
      },
      "source": [
        "두 자연수 n부터 m까지의 합을 구하려고 합니다. 이를 위해 다음과 같이 3단계로 간단히 프로그램 구조를 작성했습니다.\r\n",
        "\r\n",
        "1. 1부터 m까지의 합을 구합니다.\r\n",
        "2. 1부터 n-1까지의 합을 구합니다.\r\n",
        "3. 1단계에서 구한 값에서 2단계에서 구한 값을 뺍니다. 두 자연수 n과 m이 매개변수로 주어질 때, n부터 m까지의 합을 return 하도록 solution 함수를 작성했습니다. 이때 위 구조를 참고하여 중복되는 부분은 func_a라는 함수로 작성했습니다. 코드가 올바르게 동작할 수 있도록 빈칸을 알맞게 채워주세요."
      ]
    },
    {
      "cell_type": "code",
      "metadata": {
        "id": "8L_hcsbmxW1q"
      },
      "source": [
        "def func_a(k):\r\n",
        "  sum=0\r\n",
        "  for i in range(1, k+1):\r\n",
        "    sum+= i\r\n",
        "  return sum\r\n",
        "\r\n",
        "def solution(n, m):\r\n",
        "  sum_to_m = func_a(m)\r\n",
        "  sum_to_n = func_a(n-1)\r\n",
        "  answer = sum_to_m - sum_to_n\r\n",
        "  return answer"
      ],
      "execution_count": null,
      "outputs": []
    },
    {
      "cell_type": "markdown",
      "metadata": {
        "id": "WiTBerWZyhSG"
      },
      "source": [
        "한 학생의 과목별 점수가 들어있는 리스트가 주어졌을 때, 이 학생의 최고 점수와 최저 점수를 제외한 나머지 점수들의 합계를 구하려 합니다. 이를 위해 다음과 같이 4단계로 프로그램 구조를 작성했습니다.\r\n",
        "\r\n",
        "1. 모든 과목 점수의 합을 구합니다.\r\n",
        "2. 최고 점수를 구합니다.\r\n",
        "3. 최저 점수를 구합니다.\r\n",
        "4. (모든 과목 점수의 합) - (최고 점수) - (최저 점수) 의 값을 return합니다.\r\n",
        "\r\n",
        "학생의 과목별 점수가 들어있는 리스트 scores가 매개변수로 주어질 대, 학생의 과목별 점수에서 최고 점수와 최저 점수를 제외한 나머지 정수의 합을 return 하도록 solution 함수를 작성하려 합니다. 위 구조를 참고하여 코드가 올바륵 동작할 수 있도록 빈칸에 주어진 func_a, func_b, func_c 함수를 알맞게 채워주세요. \r\n",
        "\r\n",
        "매개변수 설명\r\n",
        "socres 길이는 3 이상 10 이하이며 점수는 0 이상 100 이하 점수, 같은 점수를 받은 과목은 없습니다."
      ]
    },
    {
      "cell_type": "code",
      "metadata": {
        "id": "PFgGLJZJzEa7"
      },
      "source": [
        "def func_a(s):\r\n",
        "  ret = 0\r\n",
        "  for i in s:\r\n",
        "    if i>ret:\r\n",
        "      ret = i\r\n",
        "  return ret\r\n",
        "\r\n",
        "def func_b(s):\r\n",
        "  ret = 0\r\n",
        "  for i in s:\r\n",
        "    ret += i\r\n",
        "  return ret\r\n",
        "\r\n",
        "def func_a(s):\r\n",
        "  ret = 101\r\n",
        "  for i in s:\r\n",
        "    if i<ret:\r\n",
        "      ret = i\r\n",
        "  return ret\r\n",
        "\r\n",
        "def solution(scores):\r\n",
        "  sum = func_b(scores)\r\n",
        "  max_socre = func_a(scores)\r\n",
        "  min_score = func_c(scores)\r\n",
        "  return sum - max_score - min_score  "
      ],
      "execution_count": null,
      "outputs": []
    },
    {
      "cell_type": "markdown",
      "metadata": {
        "id": "sSNl3SG20gqv"
      },
      "source": [
        "XX공항에서 N일 동안 매일 공항 방문객 수를 조사했습니다. 이때 가장 많은 방문객 수와 두 번째로 많은 방문객 수의 차이를 구하려고 합니다. 단, 방문객 수가 같은 날은 없다고 가정합니다. 이를 위해 다음과 같이 4단계로 간단히 프로그램 구조를 작성했습니다.\r\n",
        "\r\n",
        "1. 입력으로 주어진 리스트에서 가장 많은 방문객 수를 찾습니다.\r\n",
        "2. 1번 단계에서 찾은 값을 제외하고, 나머지 값들로 이루어진 새로운 리스트를 만듭니다.\r\n",
        "3. 2번 단계에서 만든 새로운 리스트에서 가장 큰 방문객의 수를 찾습니다.\r\n",
        "4. 1번 단계와 3번 단계에서 구한 값의 차이를 구합니다.\r\n",
        "\r\n",
        "N일 동안 방문객 수가 들어 있는 리스트 visitor가 매개변수로 주어질 때, 가장 많은 방문객 수와 두번째로 많은 방문객 수의 차이를 return 하도록 solution 함수를 작성하려 합니다. 위 구조를 참고하여 코드가 올바르게 동작할 수 있도록 주어진 func_a, func_b, func_c 함수를 알맞게 채워주세요.\r\n",
        "\r\n",
        "매개변수 설명\r\n",
        "visitor의 길이는 1 이상 100 이하이며, 요소의 값은 1 이상 200,000 이하의 자연수\r\n",
        "visitor에는 같은 숫자가 중복해서 들어있지 않습니다."
      ]
    },
    {
      "cell_type": "code",
      "metadata": {
        "id": "HAa_hd5P1dQT"
      },
      "source": [
        "def func_a(arr, n):\r\n",
        "  ret = []\r\n",
        "  for x in arr:\r\n",
        "    if x!=n:\r\n",
        "      ret.append(x)\r\n",
        "  return ret\r\n",
        "\r\n",
        "def func_b(a, b):\r\n",
        "  if a>=b:\r\n",
        "    return a-b\r\n",
        "  else:\r\n",
        "    return b-a\r\n",
        "\r\n",
        "def func_c(arr):\r\n",
        "  ret = -1\r\n",
        "  for x in arr:\r\n",
        "    if ret<x:\r\n",
        "      ret = x\r\n",
        "  return ret\r\n",
        "\r\n",
        "def solution(visitor):\r\n",
        "  max_first = func_c(visitor)\r\n",
        "  visitor_removed = func_a(visitor, max_first)\r\n",
        "  max_second = func_c(visitor_removed)\r\n",
        "  answer = func_b(max_first, max_second)\r\n",
        "  return answer"
      ],
      "execution_count": null,
      "outputs": []
    },
    {
      "cell_type": "markdown",
      "metadata": {
        "id": "x3TSuUCk3AZm"
      },
      "source": [
        "XX학교에서는 다음과 같이 학생들의 점수에 따라 학점을 부여합니다.\r\n",
        "\r\n",
        "85점 ~ 100점 : A학점\r\n",
        "70점 ~ 84점 : B학점\r\n",
        "55점 ~ 69점 : C학점\r\n",
        "40점 ~ 54점 : D학점\r\n",
        "0점 ~ 39점 : F학점\r\n",
        "\r\n",
        "학생들의 점수가 들어있는 배열 scores가 매개변수로 주어질 때 A 학점, B 학점, C 학점, D 학점, F 학점을 받은 학생들의 수를 배열에 순서대로 담아 return 하도록 solution 함수를 작성하려 합니다. 빈칸을 채워 전체 코드를 완성해주세요.\r\n",
        "\r\n",
        "매개변수 설명\r\n",
        "scores의 길이는 1 이상 200 이하입니다.\r\n",
        "학생들의 점수는 0점 이상 100점 이하의 정수입니다.\r\n",
        "\r\n",
        "return 값 설명\r\n",
        "solution 함수는 [A 학점 학생 수, B 학점 학생 수, C 학점 학생 수, D 학점 학생 수, F 학점 학생 수]를 순서대로 배열에 담아 return합니다."
      ]
    },
    {
      "cell_type": "code",
      "metadata": {
        "id": "zb-QgBrI3s_H"
      },
      "source": [
        "def solution(scores):\r\n",
        "  grade_counter = [0 for i in range(5)]\r\n",
        "  for x in scores:\r\n",
        "    if x>=85:\r\n",
        "      grade_counter[0]+=1\r\n",
        "    elif x>=70:\r\n",
        "      grade_counter[1]+=1\r\n",
        "    elif x>=55:\r\n",
        "      grade_counter[2]+=1\r\n",
        "    elif x>=40:\r\n",
        "      grade_counter[3]+=1\r\n",
        "    else:\r\n",
        "      grade_counter[4]+=1\r\n",
        "  return grade_counter"
      ],
      "execution_count": null,
      "outputs": []
    },
    {
      "cell_type": "markdown",
      "metadata": {
        "id": "5cHNaUol5f0k"
      },
      "source": [
        "개구리가 일정한 간격으로 일렬로 놓여있는 징검다리를 건너려고 합니다.\r\n",
        "\r\n",
        "징검다리에는 자연수가 적혀있으며, 개구리는 자신이 밟고 있는 징검다리에 적혀있는 숫자만큼 앞쪽으로 점프해야 합니다. 개구리는 현재 첫 번째 징검다리 위에 앉아있습니다.\r\n",
        "\r\n",
        "징검다리에 적혀있는 숫자가 첫 번째부터 순서대로 들어있는 배열 stones가 매개변수로 주어질 때, 개구리가 징검다리를 모두 건너기 위해 필요한 점프 횟수를 return 하도록 solution 함수를 작성하려 합니다. 빈칸을 채워 전체 코드를 완성해주세요.\r\n",
        "\r\n",
        "매개변수 설명\r\n",
        "stones 배열의 길이는 1 이상 100 이하입니다.\r\n",
        "stones의 원소(돌에 적혀있는 숫자)는 1 이상 5 이하의 자연수입니다."
      ]
    },
    {
      "cell_type": "code",
      "metadata": {
        "id": "4pytZI8P6QOE"
      },
      "source": [
        "def solution(stones):\r\n",
        "  cnt = 0\r\n",
        "  current = 0\r\n",
        "  n = len(stones)\r\n",
        "  while current<n:\r\n",
        "    current += stones[current]\r\n",
        "    cnt += 1\r\n",
        "  return cnt"
      ],
      "execution_count": null,
      "outputs": []
    },
    {
      "cell_type": "markdown",
      "metadata": {
        "id": "wbSwOQLHBvHi"
      },
      "source": [
        "학생들의 키가 들어 있는 목록에서 키가 k보다 큰 사람은 몇 명인지 구하려 합니다. 예를 들어 다음과 같은 목록에서 키가 175보다 큰 사람은 2명 입니다.\r\n",
        "\r\n",
        "학생의 키가 들어있는 배열 height와 k 값이 매개변수로 주어졌을 때, k 보다 키가 큰 학생의 수를 세서 return 하도록 solution 함수를 작성했습니다. 그러나, 코드 일부분이 잘못되었기 때문에 몇몇 입력에 대해서는 올바르게 동작하지 않습니다. 주어진 코드에서 한 줄만 변경해서 모든 입력에 대해 올바르게 동작하도록 수정하세요.\r\n",
        "\r\n",
        "매개변수 설명<br>\r\n",
        "height 길이는 1 이상 100이하\r\n",
        "학생들의 키는 100 이상 300 이하의 자연수, k는 100 이상 300 이하의 자연수"
      ]
    },
    {
      "cell_type": "code",
      "metadata": {
        "id": "O6wsGUe8CLI_"
      },
      "source": [
        "def solution(height, k):\r\n",
        "  answer = 0\r\n",
        "  n = len(height)\r\n",
        "  for h in height:\r\n",
        "    if h>k:\r\n",
        "      answer+=1\r\n",
        "      return answer"
      ],
      "execution_count": null,
      "outputs": []
    },
    {
      "cell_type": "markdown",
      "metadata": {
        "id": "0-1JILqDCsSg"
      },
      "source": [
        "문자열이 주어졌을 때, 문자열에서 'a'는 'z'로, 'z'는 'a'로 바꾸려고 합니다. 예를 들어 주어진 문자열이 'abz'라면 'zba'라는 문자열을 만들면 됩니다. 문자열 s가 매개변수로 주어졌을 때, 문자열에서 'a'는 'z'로, 'z'는 'a'로 바꾸어 return 하도록 solution 함수를 작성했습니다. 그러나, 코드 일부분이 잘못되었기 때문에 몇몇 입력에 대해서는 올바르게 동작하지 않습니다. 주어진 코드에서 한 줄만 변경해서 모든 입력에 대해 올바르게 동작하도록 수정하세요\r\n",
        "\r\n",
        "매개변수 설명<br>\r\n",
        "문자열 s는 알파벳 소문자로만 이루어져 있으면 길이는 1 이상 100 이하"
      ]
    },
    {
      "cell_type": "code",
      "metadata": {
        "id": "g93imHnyDGQJ"
      },
      "source": [
        "def solution(s):\r\n",
        "  s_lst = list(s)\r\n",
        "  n = len(s)\r\n",
        "  for i in range(n):\r\n",
        "    if s_lst[i] == 'a':\r\n",
        "      s_lst[i] = 'z'\r\n",
        "    elif s_lst[i] == 'z':\r\n",
        "      s_lst[i] = 'a'\r\n",
        "  return \"\".join(s_lst)"
      ],
      "execution_count": null,
      "outputs": []
    },
    {
      "cell_type": "markdown",
      "metadata": {
        "id": "MOcinpWRDkCJ"
      },
      "source": [
        "학생들의 이름이 들어있는 명단에서 이름에 j또는 k가 들어가는 학생의 수를 구하려고 합니다. 예를 들어 james에는 j가 들어가 있으며, jack에는 j와 k가 모두 들어있습니다.\r\n",
        "학생들의 이름이 들어있는 배열 name_list가 매개변수로 주어졌을 때, 이름에 j 또는 k가 들어가는 학생의 수를 세서 return 하도록 주어진 solution 함수를 작성했습니다. 그러나, 코드 일부분이 잘못되어있기 때문에 몇몇 입력에 대해서는 올바르게 동작하지 않습니다. 주어진 코드에서 한 줄만 변경해서 모든 입력에 대해 올바르게 동작하도록 수정하세요.\r\n",
        "\r\n",
        "매개변수 설명<br>\r\n",
        "name_list의 길이는 1 이상 100 이하, 학생들의 이름은 알파벳 소문자로만 이루어져 있으며, 길이는 1 이상 20 이하, 같은 이름이 중복해서 들어있지 않다."
      ]
    },
    {
      "cell_type": "code",
      "metadata": {
        "id": "8ftFOrNPEDS2"
      },
      "source": [
        "def solution(name_list):\r\n",
        "  answer = 0\r\n",
        "  for name in name_list:\r\n",
        "    for n in anme:\r\n",
        "      if n == 'j' or n == 'k':\r\n",
        "        answer += 1\r\n",
        "        break\r\n",
        "  return answer"
      ],
      "execution_count": null,
      "outputs": []
    },
    {
      "cell_type": "markdown",
      "metadata": {
        "id": "mRQWgSXoHmN8"
      },
      "source": [
        "고객이 구매한 물건들의 가격과 지불 금액이 주어졌을 때, 거스름돈을 얼마나 줘야하는지 구하려 합니다. 예를 들어 구매한 물건들의 가격이 (2100, 3200, 2100, 800)이라면 총 구매금액은 8,200원입니다. 이때 고객이 10,000원을 지불했다면 1,800원을 거슬러 주면 됩니다. 고객이 구매한 물품들의 가격이 들어있는 배열 price와 지불한 금액 money가 매개변수로 주어질 때, 거슬러 줘야하는 금액을 return 하도록 solution 함수를 완성해주세요.\r\n",
        "\r\n",
        "매개변수 설정<br>\r\n",
        "price의 길이는 1 이상 50 이하, price 원소는 고객이 구매한 물품의 가격이며, 10 이상 10,000 이하의 자연수, money는 10 이상 5,000,000 이하의 자연수<br>\r\n",
        "단, 거스름 돈이 < 0 일 때는 -1을 반환하도록 해주세요."
      ]
    },
    {
      "cell_type": "code",
      "metadata": {
        "id": "Qub2f1R3ILov"
      },
      "source": [
        "def solution(price, money):\r\n",
        "  answer = 0\r\n",
        "  total = 0\r\n",
        "  for p in price:\r\n",
        "    total += p\r\n",
        "  answer = money - total\r\n",
        "  if answer < 0:\r\n",
        "    answer = -1\r\n",
        "  return answer"
      ],
      "execution_count": null,
      "outputs": []
    },
    {
      "cell_type": "markdown",
      "metadata": {
        "id": "cfb053FwIjIi"
      },
      "source": [
        "자연수가 담겨있는 n * 4 크기의 2차원 배열에서 k 번째로 작은 수를 찾으려 합니다. 이때 n은 배열의 세로 길이, 4는 배열의 가로 길이입니다.<br>\r\n",
        "2차원 배열 arr과 자연수 k가 매개변수로 주어질 때, arr에서 k번째로 작은 수를 찾아 return 하도록 solution 함수를 완성해주세요.\r\n",
        "\r\n",
        "매개변수 설명<br>\r\n",
        "arr는 \"n*4\" 크기의 2차원 배열이며, n은 1 이상 20 이하<br>\r\n",
        "n은 arr의 세로길이이며, 가로길이는 항상 4<br>\r\n",
        "arr의 원소는 1 이상 1,000 이하의 자연수이며, 같은 수가 중복해서 들어있지 않다.<br>\r\n",
        "k는 1 이상 n*4 이하의 자연수"
      ]
    },
    {
      "cell_type": "code",
      "metadata": {
        "id": "WZnws1k7JPHn"
      },
      "source": [
        "def solution(arr, k):\r\n",
        "  answer = 0\r\n",
        "  temp = []\r\n",
        "  for a in arr:\r\n",
        "    for b in a:\r\n",
        "      temp.append(b)\r\n",
        "  temp.sort()\r\n",
        "  answer = temp[k-1]\r\n",
        "  return answer"
      ],
      "execution_count": null,
      "outputs": []
    }
  ]
}